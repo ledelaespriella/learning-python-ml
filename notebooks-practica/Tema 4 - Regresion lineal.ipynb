{
 "cells": [
  {
   "cell_type": "markdown",
   "metadata": {},
   "source": [
    "## Modelos de Regresión Lineal\n",
    "\n",
    "### Modelo con datos simulados\n",
    "\n",
    "* Y = a + b * x \n",
    "* X : 100 valor distribuidos según una N(1.5, 2.5)\n",
    "* Ye = 5 + 1.9 * x + e\n",
    "* e estara distribuido segun una N(0, 0.8)\n"
   ]
  },
  {
   "cell_type": "code",
   "execution_count": 109,
   "metadata": {},
   "outputs": [],
   "source": [
    "import pandas as pd\n",
    "import numpy as np\n",
    "import matplotlib.pyplot as plt"
   ]
  },
  {
   "cell_type": "code",
   "execution_count": 110,
   "metadata": {},
   "outputs": [],
   "source": [
    "# np.random.seed(1997)"
   ]
  },
  {
   "cell_type": "code",
   "execution_count": 111,
   "metadata": {},
   "outputs": [],
   "source": [
    "x = 1.5 + 2.5 * np.random.randn(100)"
   ]
  },
  {
   "cell_type": "code",
   "execution_count": 112,
   "metadata": {},
   "outputs": [],
   "source": [
    "res = 0 + 0.8 * np.random.randn(100)"
   ]
  },
  {
   "cell_type": "code",
   "execution_count": 113,
   "metadata": {},
   "outputs": [],
   "source": [
    "y_pred= 5 + 1.9 * x"
   ]
  },
  {
   "cell_type": "code",
   "execution_count": 114,
   "metadata": {},
   "outputs": [],
   "source": [
    "y_act = 5 + 1.9 * x + res"
   ]
  },
  {
   "cell_type": "code",
   "execution_count": 115,
   "metadata": {},
   "outputs": [],
   "source": [
    "x_list=x.tolist()\n",
    "y_pred_list= y_pred.tolist()\n",
    "y_act_list= y_act.tolist()"
   ]
  },
  {
   "cell_type": "code",
   "execution_count": 116,
   "metadata": {},
   "outputs": [],
   "source": [
    "data = pd.DataFrame(\n",
    "    {\n",
    "        'x': x_list,\n",
    "        'y_actual': y_act_list,\n",
    "        'y_prediccion': y_pred_list,\n",
    "    }\n",
    ")"
   ]
  },
  {
   "cell_type": "code",
   "execution_count": 117,
   "metadata": {},
   "outputs": [
    {
     "data": {
      "text/html": [
       "<div>\n",
       "<style scoped>\n",
       "    .dataframe tbody tr th:only-of-type {\n",
       "        vertical-align: middle;\n",
       "    }\n",
       "\n",
       "    .dataframe tbody tr th {\n",
       "        vertical-align: top;\n",
       "    }\n",
       "\n",
       "    .dataframe thead th {\n",
       "        text-align: right;\n",
       "    }\n",
       "</style>\n",
       "<table border=\"1\" class=\"dataframe\">\n",
       "  <thead>\n",
       "    <tr style=\"text-align: right;\">\n",
       "      <th></th>\n",
       "      <th>x</th>\n",
       "      <th>y_actual</th>\n",
       "      <th>y_prediccion</th>\n",
       "    </tr>\n",
       "  </thead>\n",
       "  <tbody>\n",
       "    <tr>\n",
       "      <th>0</th>\n",
       "      <td>0.494482</td>\n",
       "      <td>5.596784</td>\n",
       "      <td>5.939516</td>\n",
       "    </tr>\n",
       "    <tr>\n",
       "      <th>1</th>\n",
       "      <td>4.740466</td>\n",
       "      <td>15.462751</td>\n",
       "      <td>14.006885</td>\n",
       "    </tr>\n",
       "    <tr>\n",
       "      <th>2</th>\n",
       "      <td>0.906196</td>\n",
       "      <td>7.788593</td>\n",
       "      <td>6.721772</td>\n",
       "    </tr>\n",
       "    <tr>\n",
       "      <th>3</th>\n",
       "      <td>-2.627083</td>\n",
       "      <td>0.029995</td>\n",
       "      <td>0.008542</td>\n",
       "    </tr>\n",
       "    <tr>\n",
       "      <th>4</th>\n",
       "      <td>1.195877</td>\n",
       "      <td>6.339120</td>\n",
       "      <td>7.272166</td>\n",
       "    </tr>\n",
       "  </tbody>\n",
       "</table>\n",
       "</div>"
      ],
      "text/plain": [
       "          x   y_actual  y_prediccion\n",
       "0  0.494482   5.596784      5.939516\n",
       "1  4.740466  15.462751     14.006885\n",
       "2  0.906196   7.788593      6.721772\n",
       "3 -2.627083   0.029995      0.008542\n",
       "4  1.195877   6.339120      7.272166"
      ]
     },
     "execution_count": 117,
     "metadata": {},
     "output_type": "execute_result"
    }
   ],
   "source": [
    "data.head()"
   ]
  },
  {
   "cell_type": "code",
   "execution_count": 143,
   "metadata": {},
   "outputs": [],
   "source": [
    "y_men = [np.mean(y_act) for i in range(1, len(x_list)+1)]"
   ]
  },
  {
   "cell_type": "code",
   "execution_count": 119,
   "metadata": {},
   "outputs": [
    {
     "data": {
      "text/plain": [
       "Text(0.5, 1.0, 'Valor actual vs Predicción')"
      ]
     },
     "execution_count": 119,
     "metadata": {},
     "output_type": "execute_result"
    },
    {
     "data": {
      "image/png": "[encoded data removed]",
      "text/plain": [
       "<Figure size 432x288 with 1 Axes>"
      ]
     },
     "metadata": {
      "needs_background": "light"
     },
     "output_type": "display_data"
    }
   ],
   "source": [
    "%matplotlib inline\n",
    "plt.plot(x,y_pred)\n",
    "plt.plot(x,y_act, 'ro')\n",
    "plt.plot(x,y_men, 'g')\n",
    "plt.title(\"Valor actual vs Predicción\")"
   ]
  },
  {
   "cell_type": "markdown",
   "metadata": {},
   "source": [
    "SSD = Distancias del dato observado con respecto al modelo\n",
    "SST = Distancia del dato observado con respecto al promedio\n",
    "SSR = Distancia entre la predicción y el promedio"
   ]
  },
  {
   "cell_type": "code",
   "execution_count": 120,
   "metadata": {},
   "outputs": [],
   "source": [
    "y_m = np.mean(y_act)\n",
    "data[\"SSR\"] = (data[\"y_prediccion\"]-y_m)**2\n",
    "data[\"SSD\"] = (data[\"y_prediccion\"]-data[\"y_actual\"])**2\n",
    "data[\"SST\"] = (data[\"y_actual\"]-y_m)**2"
   ]
  },
  {
   "cell_type": "code",
   "execution_count": 121,
   "metadata": {},
   "outputs": [
    {
     "data": {
      "text/html": [
       "<div>\n",
       "<style scoped>\n",
       "    .dataframe tbody tr th:only-of-type {\n",
       "        vertical-align: middle;\n",
       "    }\n",
       "\n",
       "    .dataframe tbody tr th {\n",
       "        vertical-align: top;\n",
       "    }\n",
       "\n",
       "    .dataframe thead th {\n",
       "        text-align: right;\n",
       "    }\n",
       "</style>\n",
       "<table border=\"1\" class=\"dataframe\">\n",
       "  <thead>\n",
       "    <tr style=\"text-align: right;\">\n",
       "      <th></th>\n",
       "      <th>x</th>\n",
       "      <th>y_actual</th>\n",
       "      <th>y_prediccion</th>\n",
       "      <th>SSR</th>\n",
       "      <th>SSD</th>\n",
       "      <th>SST</th>\n",
       "    </tr>\n",
       "  </thead>\n",
       "  <tbody>\n",
       "    <tr>\n",
       "      <th>0</th>\n",
       "      <td>0.494482</td>\n",
       "      <td>5.596784</td>\n",
       "      <td>5.939516</td>\n",
       "      <td>2.947053</td>\n",
       "      <td>0.117465</td>\n",
       "      <td>4.241252</td>\n",
       "    </tr>\n",
       "    <tr>\n",
       "      <th>1</th>\n",
       "      <td>4.740466</td>\n",
       "      <td>15.462751</td>\n",
       "      <td>14.006885</td>\n",
       "      <td>40.331023</td>\n",
       "      <td>2.119547</td>\n",
       "      <td>60.942027</td>\n",
       "    </tr>\n",
       "    <tr>\n",
       "      <th>2</th>\n",
       "      <td>0.906196</td>\n",
       "      <td>7.788593</td>\n",
       "      <td>6.721772</td>\n",
       "      <td>0.873182</td>\n",
       "      <td>1.138107</td>\n",
       "      <td>0.017524</td>\n",
       "    </tr>\n",
       "    <tr>\n",
       "      <th>3</th>\n",
       "      <td>-2.627083</td>\n",
       "      <td>0.029995</td>\n",
       "      <td>0.008542</td>\n",
       "      <td>58.486882</td>\n",
       "      <td>0.000460</td>\n",
       "      <td>58.159217</td>\n",
       "    </tr>\n",
       "    <tr>\n",
       "      <th>4</th>\n",
       "      <td>1.195877</td>\n",
       "      <td>6.339120</td>\n",
       "      <td>7.272166</td>\n",
       "      <td>0.147493</td>\n",
       "      <td>0.870576</td>\n",
       "      <td>1.734738</td>\n",
       "    </tr>\n",
       "  </tbody>\n",
       "</table>\n",
       "</div>"
      ],
      "text/plain": [
       "          x   y_actual  y_prediccion        SSR       SSD        SST\n",
       "0  0.494482   5.596784      5.939516   2.947053  0.117465   4.241252\n",
       "1  4.740466  15.462751     14.006885  40.331023  2.119547  60.942027\n",
       "2  0.906196   7.788593      6.721772   0.873182  1.138107   0.017524\n",
       "3 -2.627083   0.029995      0.008542  58.486882  0.000460  58.159217\n",
       "4  1.195877   6.339120      7.272166   0.147493  0.870576   1.734738"
      ]
     },
     "execution_count": 121,
     "metadata": {},
     "output_type": "execute_result"
    }
   ],
   "source": [
    "data.head()"
   ]
  },
  {
   "cell_type": "code",
   "execution_count": 122,
   "metadata": {},
   "outputs": [],
   "source": [
    "SSR= sum(data['SSR'])\n",
    "SSD= sum(data['SSD'])\n",
    "SST= sum(data['SST'])"
   ]
  },
  {
   "cell_type": "code",
   "execution_count": 123,
   "metadata": {},
   "outputs": [
    {
     "data": {
      "text/plain": [
       "1984.6285842035443"
      ]
     },
     "execution_count": 123,
     "metadata": {},
     "output_type": "execute_result"
    }
   ],
   "source": [
    "SSR"
   ]
  },
  {
   "cell_type": "code",
   "execution_count": 124,
   "metadata": {},
   "outputs": [
    {
     "data": {
      "text/plain": [
       "63.066335243917"
      ]
     },
     "execution_count": 124,
     "metadata": {},
     "output_type": "execute_result"
    }
   ],
   "source": [
    "SSD"
   ]
  },
  {
   "cell_type": "code",
   "execution_count": 125,
   "metadata": {},
   "outputs": [
    {
     "data": {
      "text/plain": [
       "2068.5605588211856"
      ]
     },
     "execution_count": 125,
     "metadata": {},
     "output_type": "execute_result"
    }
   ],
   "source": [
    "SST"
   ]
  },
  {
   "cell_type": "code",
   "execution_count": 126,
   "metadata": {},
   "outputs": [
    {
     "data": {
      "text/plain": [
       "2047.6949194474612"
      ]
     },
     "execution_count": 126,
     "metadata": {},
     "output_type": "execute_result"
    }
   ],
   "source": [
    "SSR+SSD"
   ]
  },
  {
   "cell_type": "code",
   "execution_count": 127,
   "metadata": {},
   "outputs": [
    {
     "data": {
      "text/plain": [
       "0.9594249371816932"
      ]
     },
     "execution_count": 127,
     "metadata": {},
     "output_type": "execute_result"
    }
   ],
   "source": [
    "R2= SSR / SST\n",
    "R2"
   ]
  },
  {
   "cell_type": "code",
   "execution_count": 128,
   "metadata": {},
   "outputs": [
    {
     "data": {
      "text/plain": [
       "(array([ 2.,  3.,  8.,  9., 23., 19., 16.,  7.,  7.,  6.]),\n",
       " array([-2.07621205, -1.70488938, -1.33356671, -0.96224404, -0.59092137,\n",
       "        -0.2195987 ,  0.15172397,  0.52304664,  0.89436931,  1.26569197,\n",
       "         1.63701464]),\n",
       " <BarContainer object of 10 artists>)"
      ]
     },
     "execution_count": 128,
     "metadata": {},
     "output_type": "execute_result"
    },
    {
     "data": {
      "image/png": "[encoded data removed]",
      "text/plain": [
       "<Figure size 432x288 with 1 Axes>"
      ]
     },
     "metadata": {
      "needs_background": "light"
     },
     "output_type": "display_data"
    }
   ],
   "source": [
    "plt.hist(data[\"y_prediccion\"]-data[\"y_actual\"])"
   ]
  },
  {
   "cell_type": "markdown",
   "metadata": {},
   "source": [
    "## Obteniendo la recta de regresión\n",
    "\n",
    "* y = a + b * x\n",
    "* b = sum((xi-x_m)*(yi-y_m))/sum((xi-x_m) ** 2)\n",
    "* a = y_m - b * x_m"
   ]
  },
  {
   "cell_type": "code",
   "execution_count": 129,
   "metadata": {},
   "outputs": [
    {
     "data": {
      "text/plain": [
       "(1.3576811713984336, 7.656214027321547)"
      ]
     },
     "execution_count": 129,
     "metadata": {},
     "output_type": "execute_result"
    }
   ],
   "source": [
    "x_mean = np.mean(data['x'])\n",
    "y_mean = np.mean(data['y_actual'])\n",
    "x_mean , y_mean"
   ]
  },
  {
   "cell_type": "code",
   "execution_count": 131,
   "metadata": {},
   "outputs": [],
   "source": [
    "data['beta_n']= (data['x']-x_mean)*(data['y_actual']-y_mean)\n",
    "data['beta_d']= (data['x']-x_mean)**2"
   ]
  },
  {
   "cell_type": "code",
   "execution_count": 132,
   "metadata": {},
   "outputs": [],
   "source": [
    "beta = sum(data['beta_n'])/sum(data['beta_d'])"
   ]
  },
  {
   "cell_type": "code",
   "execution_count": 133,
   "metadata": {},
   "outputs": [],
   "source": [
    "alpha = y_mean - beta * x_mean"
   ]
  },
  {
   "cell_type": "code",
   "execution_count": 134,
   "metadata": {},
   "outputs": [
    {
     "data": {
      "text/plain": [
       "(5.06229206905088, 1.9105530907517014)"
      ]
     },
     "execution_count": 134,
     "metadata": {},
     "output_type": "execute_result"
    }
   ],
   "source": [
    "alpha, beta"
   ]
  },
  {
   "cell_type": "markdown",
   "metadata": {},
   "source": [
    "El modelo lineal obtenido por regresion es: y = 5.06229206905088 + 1.9105530907517014 * x"
   ]
  },
  {
   "cell_type": "code",
   "execution_count": 135,
   "metadata": {},
   "outputs": [],
   "source": [
    "data['y_model']= alpha + beta * data['x']"
   ]
  },
  {
   "cell_type": "code",
   "execution_count": 136,
   "metadata": {},
   "outputs": [
    {
     "data": {
      "text/html": [
       "<div>\n",
       "<style scoped>\n",
       "    .dataframe tbody tr th:only-of-type {\n",
       "        vertical-align: middle;\n",
       "    }\n",
       "\n",
       "    .dataframe tbody tr th {\n",
       "        vertical-align: top;\n",
       "    }\n",
       "\n",
       "    .dataframe thead th {\n",
       "        text-align: right;\n",
       "    }\n",
       "</style>\n",
       "<table border=\"1\" class=\"dataframe\">\n",
       "  <thead>\n",
       "    <tr style=\"text-align: right;\">\n",
       "      <th></th>\n",
       "      <th>x</th>\n",
       "      <th>y_actual</th>\n",
       "      <th>y_prediccion</th>\n",
       "      <th>SSR</th>\n",
       "      <th>SSD</th>\n",
       "      <th>SST</th>\n",
       "      <th>beta_n</th>\n",
       "      <th>beta_d</th>\n",
       "      <th>y_model</th>\n",
       "    </tr>\n",
       "  </thead>\n",
       "  <tbody>\n",
       "    <tr>\n",
       "      <th>0</th>\n",
       "      <td>0.494482</td>\n",
       "      <td>5.596784</td>\n",
       "      <td>5.939516</td>\n",
       "      <td>2.947053</td>\n",
       "      <td>0.117465</td>\n",
       "      <td>4.241252</td>\n",
       "      <td>1.777698</td>\n",
       "      <td>0.745113</td>\n",
       "      <td>6.007026</td>\n",
       "    </tr>\n",
       "    <tr>\n",
       "      <th>1</th>\n",
       "      <td>4.740466</td>\n",
       "      <td>15.462751</td>\n",
       "      <td>14.006885</td>\n",
       "      <td>40.331023</td>\n",
       "      <td>2.119547</td>\n",
       "      <td>60.942027</td>\n",
       "      <td>26.407835</td>\n",
       "      <td>11.443232</td>\n",
       "      <td>14.119204</td>\n",
       "    </tr>\n",
       "    <tr>\n",
       "      <th>2</th>\n",
       "      <td>0.906196</td>\n",
       "      <td>7.788593</td>\n",
       "      <td>6.721772</td>\n",
       "      <td>0.873182</td>\n",
       "      <td>1.138107</td>\n",
       "      <td>0.017524</td>\n",
       "      <td>-0.059767</td>\n",
       "      <td>0.203839</td>\n",
       "      <td>6.793627</td>\n",
       "    </tr>\n",
       "    <tr>\n",
       "      <th>3</th>\n",
       "      <td>-2.627083</td>\n",
       "      <td>0.029995</td>\n",
       "      <td>0.008542</td>\n",
       "      <td>58.486882</td>\n",
       "      <td>0.000460</td>\n",
       "      <td>58.159217</td>\n",
       "      <td>30.388684</td>\n",
       "      <td>15.878345</td>\n",
       "      <td>0.043111</td>\n",
       "    </tr>\n",
       "    <tr>\n",
       "      <th>4</th>\n",
       "      <td>1.195877</td>\n",
       "      <td>6.339120</td>\n",
       "      <td>7.272166</td>\n",
       "      <td>0.147493</td>\n",
       "      <td>0.870576</td>\n",
       "      <td>1.734738</td>\n",
       "      <td>0.213111</td>\n",
       "      <td>0.026181</td>\n",
       "      <td>7.347078</td>\n",
       "    </tr>\n",
       "  </tbody>\n",
       "</table>\n",
       "</div>"
      ],
      "text/plain": [
       "          x   y_actual  y_prediccion        SSR       SSD        SST  \\\n",
       "0  0.494482   5.596784      5.939516   2.947053  0.117465   4.241252   \n",
       "1  4.740466  15.462751     14.006885  40.331023  2.119547  60.942027   \n",
       "2  0.906196   7.788593      6.721772   0.873182  1.138107   0.017524   \n",
       "3 -2.627083   0.029995      0.008542  58.486882  0.000460  58.159217   \n",
       "4  1.195877   6.339120      7.272166   0.147493  0.870576   1.734738   \n",
       "\n",
       "      beta_n     beta_d    y_model  \n",
       "0   1.777698   0.745113   6.007026  \n",
       "1  26.407835  11.443232  14.119204  \n",
       "2  -0.059767   0.203839   6.793627  \n",
       "3  30.388684  15.878345   0.043111  \n",
       "4   0.213111   0.026181   7.347078  "
      ]
     },
     "execution_count": 136,
     "metadata": {},
     "output_type": "execute_result"
    }
   ],
   "source": [
    "data.head()"
   ]
  },
  {
   "cell_type": "code",
   "execution_count": 139,
   "metadata": {},
   "outputs": [],
   "source": [
    "\n",
    "SSR= sum((data[\"y_model\"]-y_mean)**2)\n",
    "SSD = sum((data[\"y_model\"]-data[\"y_actual\"])**2)\n",
    "SST= sum((data[\"y_actual\"]-y_mean)**2)"
   ]
  },
  {
   "cell_type": "code",
   "execution_count": 140,
   "metadata": {},
   "outputs": [
    {
     "data": {
      "text/plain": [
       "(2006.142490232761, 62.41806858842497, 2068.560558821185)"
      ]
     },
     "execution_count": 140,
     "metadata": {},
     "output_type": "execute_result"
    }
   ],
   "source": [
    "SSR, SSD, SST"
   ]
  },
  {
   "cell_type": "code",
   "execution_count": 141,
   "metadata": {},
   "outputs": [],
   "source": [
    "R2 = SSR / SST"
   ]
  },
  {
   "cell_type": "code",
   "execution_count": 142,
   "metadata": {},
   "outputs": [
    {
     "data": {
      "text/plain": [
       "0.9698253607697159"
      ]
     },
     "execution_count": 142,
     "metadata": {},
     "output_type": "execute_result"
    }
   ],
   "source": [
    "R2"
   ]
  },
  {
   "cell_type": "code",
   "execution_count": 150,
   "metadata": {},
   "outputs": [
    {
     "data": {
      "text/plain": [
       "Text(0.5, 1.0, 'Valor actual vs Predicción')"
      ]
     },
     "execution_count": 150,
     "metadata": {},
     "output_type": "execute_result"
    },
    {
     "data": {
      "image/png": "[encoded data removed]",
      "text/plain": [
       "<Figure size 432x288 with 1 Axes>"
      ]
     },
     "metadata": {
      "needs_background": "light"
     },
     "output_type": "display_data"
    }
   ],
   "source": [
    "y_mean = [np.mean(y_act) for i in range(1, len(x_list)+1)]\n",
    "%matplotlib inline\n",
    "plt.plot(data['x'],data['y_prediccion'])\n",
    "plt.plot(data['x'],data['y_actual'], 'ro')\n",
    "plt.plot(data['x'],y_mean, 'g')\n",
    "plt.plot(data['x'],data['y_model'] )\n",
    "plt.title(\"Valor actual vs Predicción\")"
   ]
  }
 ],
 "metadata": {
  "kernelspec": {
   "display_name": "Python 3.9.12 ('base')",
   "language": "python",
   "name": "python3"
  },
  "language_info": {
   "codemirror_mode": {
    "name": "ipython",
    "version": 3
   },
   "file_extension": ".py",
   "mimetype": "text/x-python",
   "name": "python",
   "nbconvert_exporter": "python",
   "pygments_lexer": "ipython3",
   "version": "3.9.12"
  },
  "orig_nbformat": 4,
  "vscode": {
   "interpreter": {
    "hash": "172628b347b6cad32f5b9e88c70c397e24e40d59d69419b95244d470c1759ff1"
   }
  }
 },
 "nbformat": 4,
 "nbformat_minor": 2
}
